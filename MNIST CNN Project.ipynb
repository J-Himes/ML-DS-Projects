{
 "cells": [
  {
   "cell_type": "code",
   "execution_count": 3,
   "id": "216aa6b8",
   "metadata": {},
   "outputs": [],
   "source": [
    "import torch\n",
    "import torch.nn as nn\n",
    "import torch.nn.functional as F\n",
    "from torch.utils.data import DataLoader\n",
    "from torchvision import datasets, transforms\n",
    "from torchvision.utils import make_grid\n",
    "\n",
    "import numpy as np\n",
    "import pandas as pd\n",
    "import time\n",
    "from sklearn.metrics import confusion_matrix\n",
    "import matplotlib.pyplot as plt\n",
    "%matplotlib inline"
   ]
  },
  {
   "cell_type": "code",
   "execution_count": 4,
   "id": "832c9672",
   "metadata": {},
   "outputs": [],
   "source": [
    "# Loading the data\n",
    "transform = transforms.ToTensor()\n",
    "\n",
    "train_data = datasets.MNIST(root='../Data', train=True, download=True, transform=transform)\n",
    "test_data = datasets.MNIST(root='../Data', train=False, download=True, transform=transform)"
   ]
  },
  {
   "cell_type": "code",
   "execution_count": 5,
   "id": "23a5f7b7",
   "metadata": {},
   "outputs": [],
   "source": [
    "# Creating loaders\n",
    "train_loader = DataLoader(train_data, batch_size=10, shuffle=True)\n",
    "test_loader = DataLoader(test_data, batch_size=10, shuffle=False)"
   ]
  },
  {
   "cell_type": "code",
   "execution_count": 6,
   "id": "15648556",
   "metadata": {},
   "outputs": [],
   "source": [
    "# Defining the convolutional model"
   ]
  },
  {
   "cell_type": "code",
   "execution_count": 7,
   "id": "6dce74d1",
   "metadata": {},
   "outputs": [],
   "source": [
    "# Define layers\n",
    "conv1 = nn.Conv2d(1, 6, 3, 1)\n",
    "conv2 = nn.Conv2d(6, 16, 3, 1)"
   ]
  },
  {
   "cell_type": "code",
   "execution_count": 8,
   "id": "11de8be5",
   "metadata": {},
   "outputs": [],
   "source": [
    "# Grab the first MNIST record\n",
    "for i, (X_train, y_train) in enumerate(train_data):\n",
    "    break"
   ]
  },
  {
   "cell_type": "code",
   "execution_count": 9,
   "id": "d2632953",
   "metadata": {},
   "outputs": [
    {
     "name": "stdout",
     "output_type": "stream",
     "text": [
      "torch.Size([1, 1, 28, 28])\n"
     ]
    }
   ],
   "source": [
    "# Create a rank-4 tensor to be passed into the model\n",
    "# (train_loader will have done this already)\n",
    "x = X_train.view(1,1,28,28)\n",
    "print(x.shape)"
   ]
  },
  {
   "cell_type": "code",
   "execution_count": 10,
   "id": "780b4aac",
   "metadata": {},
   "outputs": [
    {
     "name": "stdout",
     "output_type": "stream",
     "text": [
      "torch.Size([1, 6, 26, 26])\n"
     ]
    },
    {
     "name": "stderr",
     "output_type": "stream",
     "text": [
      "[W NNPACK.cpp:79] Could not initialize NNPACK! Reason: Unsupported hardware.\n"
     ]
    }
   ],
   "source": [
    "# Perform the first convolution/activation\n",
    "x = F.relu(conv1(x))\n",
    "print(x.shape)"
   ]
  },
  {
   "cell_type": "code",
   "execution_count": 11,
   "id": "f698461c",
   "metadata": {},
   "outputs": [
    {
     "name": "stdout",
     "output_type": "stream",
     "text": [
      "torch.Size([1, 6, 13, 13])\n"
     ]
    }
   ],
   "source": [
    "# Run the first pooling layer\n",
    "x = F.max_pool2d(x, 2, 2)\n",
    "print(x.shape)"
   ]
  },
  {
   "cell_type": "code",
   "execution_count": 12,
   "id": "0675ae16",
   "metadata": {},
   "outputs": [
    {
     "name": "stdout",
     "output_type": "stream",
     "text": [
      "torch.Size([1, 16, 11, 11])\n"
     ]
    }
   ],
   "source": [
    "# Perform the second convolution/activation\n",
    "x = F.relu(conv2(x))\n",
    "print(x.shape)"
   ]
  },
  {
   "cell_type": "code",
   "execution_count": 13,
   "id": "b248a2c8",
   "metadata": {},
   "outputs": [
    {
     "name": "stdout",
     "output_type": "stream",
     "text": [
      "torch.Size([1, 16, 5, 5])\n"
     ]
    }
   ],
   "source": [
    "# Run the second pooling layer\n",
    "x = F.max_pool2d(x, 2, 2)\n",
    "print(x.shape)"
   ]
  },
  {
   "cell_type": "code",
   "execution_count": 14,
   "id": "1fb463ee",
   "metadata": {},
   "outputs": [
    {
     "name": "stdout",
     "output_type": "stream",
     "text": [
      "torch.Size([1, 400])\n"
     ]
    }
   ],
   "source": [
    "# Flatten the data\n",
    "x = x.view(-1, 5*5*16)\n",
    "print(x.shape)"
   ]
  },
  {
   "cell_type": "code",
   "execution_count": 15,
   "id": "6828f260",
   "metadata": {},
   "outputs": [],
   "source": [
    "class ConvolutionalNetwork(nn.Module):\n",
    "    def __init__(self):\n",
    "        super().__init__()\n",
    "        self.conv1 = nn.Conv2d(1, 6, 3, 1)\n",
    "        self.conv2 = nn.Conv2d(6, 16, 3, 1)\n",
    "        self.fc1 = nn.Linear(5*5*16, 120)\n",
    "        self.fc2 = nn.Linear(120, 84)\n",
    "        self.fc3 = nn.Linear(84,10)\n",
    "\n",
    "    def forward(self, X):\n",
    "        X = F.relu(self.conv1(X))\n",
    "        X = F.max_pool2d(X, 2, 2)\n",
    "        X = F.relu(self.conv2(X))\n",
    "        X = F.max_pool2d(X, 2, 2)\n",
    "        X = X.view(-1, 5*5*16)\n",
    "        X = F.relu(self.fc1(X))\n",
    "        X = F.relu(self.fc2(X))\n",
    "        X = self.fc3(X)\n",
    "        return F.log_softmax(X, dim=1)"
   ]
  },
  {
   "cell_type": "code",
   "execution_count": 16,
   "id": "ab2486f9",
   "metadata": {},
   "outputs": [
    {
     "data": {
      "text/plain": [
       "ConvolutionalNetwork(\n",
       "  (conv1): Conv2d(1, 6, kernel_size=(3, 3), stride=(1, 1))\n",
       "  (conv2): Conv2d(6, 16, kernel_size=(3, 3), stride=(1, 1))\n",
       "  (fc1): Linear(in_features=400, out_features=120, bias=True)\n",
       "  (fc2): Linear(in_features=120, out_features=84, bias=True)\n",
       "  (fc3): Linear(in_features=84, out_features=10, bias=True)\n",
       ")"
      ]
     },
     "execution_count": 16,
     "metadata": {},
     "output_type": "execute_result"
    }
   ],
   "source": [
    "torch.manual_seed(42)\n",
    "model = ConvolutionalNetwork()\n",
    "model"
   ]
  },
  {
   "cell_type": "code",
   "execution_count": 17,
   "id": "3e36ceb1",
   "metadata": {},
   "outputs": [],
   "source": [
    "def count_parameters(model):\n",
    "    params = [p.numel() for p in model.parameters() if p.requires_grad]\n",
    "    for item in params:\n",
    "        print(f'{item:>6}')\n",
    "    print(f'______\\n{sum(params):>6}')"
   ]
  },
  {
   "cell_type": "code",
   "execution_count": 18,
   "id": "11e07259",
   "metadata": {},
   "outputs": [
    {
     "name": "stdout",
     "output_type": "stream",
     "text": [
      "    54\n",
      "     6\n",
      "   864\n",
      "    16\n",
      " 48000\n",
      "   120\n",
      " 10080\n",
      "    84\n",
      "   840\n",
      "    10\n",
      "______\n",
      " 60074\n"
     ]
    }
   ],
   "source": [
    "count_parameters(model)"
   ]
  },
  {
   "cell_type": "code",
   "execution_count": 19,
   "id": "f2988201",
   "metadata": {},
   "outputs": [],
   "source": [
    "# Define loss function and optimizer\n",
    "criterion = nn.CrossEntropyLoss()\n",
    "optimizer = torch.optim.Adam(model.parameters(), lr=0.001)"
   ]
  },
  {
   "cell_type": "code",
   "execution_count": 20,
   "id": "2b2bc144",
   "metadata": {},
   "outputs": [
    {
     "name": "stdout",
     "output_type": "stream",
     "text": [
      "epoch:  0  batch:  600 [  6000/60000]  loss: 0.04020718  accuracy:  78.450%\n",
      "epoch:  0  batch: 1200 [ 12000/60000]  loss: 0.07251799  accuracy:  85.792%\n",
      "epoch:  0  batch: 1800 [ 18000/60000]  loss: 0.30803442  accuracy:  88.739%\n",
      "epoch:  0  batch: 2400 [ 24000/60000]  loss: 0.02126152  accuracy:  90.517%\n",
      "epoch:  0  batch: 3000 [ 30000/60000]  loss: 0.01115069  accuracy:  91.680%\n",
      "epoch:  0  batch: 3600 [ 36000/60000]  loss: 0.00182951  accuracy:  92.528%\n",
      "epoch:  0  batch: 4200 [ 42000/60000]  loss: 0.52202529  accuracy:  93.152%\n",
      "epoch:  0  batch: 4800 [ 48000/60000]  loss: 0.03088045  accuracy:  93.610%\n",
      "epoch:  0  batch: 5400 [ 54000/60000]  loss: 0.01079286  accuracy:  94.033%\n",
      "epoch:  0  batch: 6000 [ 60000/60000]  loss: 0.04027519  accuracy:  94.333%\n",
      "epoch:  1  batch:  600 [  6000/60000]  loss: 0.02093446  accuracy:  97.850%\n",
      "epoch:  1  batch: 1200 [ 12000/60000]  loss: 0.05885745  accuracy:  97.900%\n",
      "epoch:  1  batch: 1800 [ 18000/60000]  loss: 0.00105503  accuracy:  97.889%\n",
      "epoch:  1  batch: 2400 [ 24000/60000]  loss: 0.03764184  accuracy:  97.875%\n",
      "epoch:  1  batch: 3000 [ 30000/60000]  loss: 0.28639209  accuracy:  97.847%\n",
      "epoch:  1  batch: 3600 [ 36000/60000]  loss: 0.00004847  accuracy:  97.856%\n",
      "epoch:  1  batch: 4200 [ 42000/60000]  loss: 0.00054929  accuracy:  97.924%\n",
      "epoch:  1  batch: 4800 [ 48000/60000]  loss: 0.00044312  accuracy:  97.931%\n",
      "epoch:  1  batch: 5400 [ 54000/60000]  loss: 0.00056601  accuracy:  97.956%\n",
      "epoch:  1  batch: 6000 [ 60000/60000]  loss: 0.00288537  accuracy:  97.957%\n",
      "epoch:  2  batch:  600 [  6000/60000]  loss: 0.00109411  accuracy:  98.700%\n",
      "epoch:  2  batch: 1200 [ 12000/60000]  loss: 0.00141352  accuracy:  98.717%\n",
      "epoch:  2  batch: 1800 [ 18000/60000]  loss: 0.00309423  accuracy:  98.589%\n",
      "epoch:  2  batch: 2400 [ 24000/60000]  loss: 0.00107385  accuracy:  98.604%\n",
      "epoch:  2  batch: 3000 [ 30000/60000]  loss: 0.42900234  accuracy:  98.537%\n",
      "epoch:  2  batch: 3600 [ 36000/60000]  loss: 0.02286130  accuracy:  98.528%\n",
      "epoch:  2  batch: 4200 [ 42000/60000]  loss: 0.04595252  accuracy:  98.533%\n",
      "epoch:  2  batch: 4800 [ 48000/60000]  loss: 0.00422291  accuracy:  98.533%\n",
      "epoch:  2  batch: 5400 [ 54000/60000]  loss: 0.00073768  accuracy:  98.522%\n",
      "epoch:  2  batch: 6000 [ 60000/60000]  loss: 0.00025644  accuracy:  98.507%\n",
      "epoch:  3  batch:  600 [  6000/60000]  loss: 0.00052305  accuracy:  98.900%\n",
      "epoch:  3  batch: 1200 [ 12000/60000]  loss: 0.00075120  accuracy:  98.933%\n",
      "epoch:  3  batch: 1800 [ 18000/60000]  loss: 0.00044983  accuracy:  98.889%\n",
      "epoch:  3  batch: 2400 [ 24000/60000]  loss: 0.00025732  accuracy:  98.850%\n",
      "epoch:  3  batch: 3000 [ 30000/60000]  loss: 0.00899265  accuracy:  98.860%\n",
      "epoch:  3  batch: 3600 [ 36000/60000]  loss: 0.04556178  accuracy:  98.831%\n",
      "epoch:  3  batch: 4200 [ 42000/60000]  loss: 0.00019459  accuracy:  98.845%\n",
      "epoch:  3  batch: 4800 [ 48000/60000]  loss: 0.04675233  accuracy:  98.848%\n",
      "epoch:  3  batch: 5400 [ 54000/60000]  loss: 0.00862402  accuracy:  98.846%\n",
      "epoch:  3  batch: 6000 [ 60000/60000]  loss: 0.00147763  accuracy:  98.850%\n",
      "epoch:  4  batch:  600 [  6000/60000]  loss: 0.00186312  accuracy:  99.183%\n",
      "epoch:  4  batch: 1200 [ 12000/60000]  loss: 0.02685685  accuracy:  99.100%\n",
      "epoch:  4  batch: 1800 [ 18000/60000]  loss: 0.00006190  accuracy:  99.161%\n",
      "epoch:  4  batch: 2400 [ 24000/60000]  loss: 0.00024674  accuracy:  99.108%\n",
      "epoch:  4  batch: 3000 [ 30000/60000]  loss: 0.01379599  accuracy:  99.067%\n",
      "epoch:  4  batch: 3600 [ 36000/60000]  loss: 0.00039858  accuracy:  99.058%\n",
      "epoch:  4  batch: 4200 [ 42000/60000]  loss: 0.00290016  accuracy:  99.076%\n",
      "epoch:  4  batch: 4800 [ 48000/60000]  loss: 0.00113245  accuracy:  99.067%\n",
      "epoch:  4  batch: 5400 [ 54000/60000]  loss: 0.00008841  accuracy:  99.067%\n",
      "epoch:  4  batch: 6000 [ 60000/60000]  loss: 0.00170188  accuracy:  99.063%\n",
      "\n",
      "Duration: 90 seconds\n"
     ]
    }
   ],
   "source": [
    "# Training the model\n",
    "start_time = time.time()\n",
    "\n",
    "epochs = 5\n",
    "train_losses = []\n",
    "test_losses = []\n",
    "train_correct = []\n",
    "test_correct = []\n",
    "\n",
    "for i in range(epochs):\n",
    "    trn_corr = 0\n",
    "    tst_corr = 0\n",
    "    \n",
    "    # Run the training batches\n",
    "    for b, (X_train, y_train) in enumerate(train_loader):\n",
    "        b+=1\n",
    "        \n",
    "        # Apply the model\n",
    "        y_pred = model(X_train)  # we don't flatten X-train here\n",
    "        loss = criterion(y_pred, y_train)\n",
    " \n",
    "        # Tally the number of correct predictions\n",
    "        predicted = torch.max(y_pred.data, 1)[1]\n",
    "        batch_corr = (predicted == y_train).sum()\n",
    "        trn_corr += batch_corr\n",
    "        \n",
    "        # Update parameters\n",
    "        optimizer.zero_grad()\n",
    "        loss.backward()\n",
    "        optimizer.step()\n",
    "        \n",
    "        # Print interim results\n",
    "        if b%600 == 0:\n",
    "            print(f'epoch: {i:2}  batch: {b:4} [{10*b:6}/60000]  loss: {loss.item():10.8f}  \\\n",
    "accuracy: {trn_corr.item()*100/(10*b):7.3f}%')\n",
    "        \n",
    "    train_losses.append(loss)\n",
    "    train_correct.append(trn_corr)\n",
    "        \n",
    "    # Run the testing batches\n",
    "    with torch.no_grad():\n",
    "        for b, (X_test, y_test) in enumerate(test_loader):\n",
    "\n",
    "            # Apply the model\n",
    "            y_val = model(X_test)\n",
    "\n",
    "            # Tally the number of correct predictions\n",
    "            predicted = torch.max(y_val.data, 1)[1] \n",
    "            tst_corr += (predicted == y_test).sum()\n",
    "            \n",
    "    loss = criterion(y_val, y_test)\n",
    "    test_losses.append(loss)\n",
    "    test_correct.append(tst_corr)\n",
    "        \n",
    "print(f'\\nDuration: {time.time() - start_time:.0f} seconds') # print the time elapsed            "
   ]
  },
  {
   "cell_type": "code",
   "execution_count": 22,
   "id": "d9bba6fb",
   "metadata": {},
   "outputs": [
    {
     "data": {
      "image/png": "[encoded data removed]",
      "text/plain": [
       "<Figure size 432x288 with 1 Axes>"
      ]
     },
     "metadata": {
      "needs_background": "light"
     },
     "output_type": "display_data"
    }
   ],
   "source": [
    "# Plot the loss and accuracy comparisons\n",
    "train_losses1 = [ loss.detach().numpy() for loss in train_losses]\n",
    "test_losses1 = [ loss.detach().numpy() for loss in test_losses]\n",
    "plt.plot(train_losses1, label='training loss')\n",
    "plt.plot(test_losses1, label='validation loss')\n",
    "plt.title('Loss at the end of each epoch')\n",
    "plt.legend();"
   ]
  },
  {
   "cell_type": "code",
   "execution_count": 23,
   "id": "c76ea910",
   "metadata": {},
   "outputs": [
    {
     "data": {
      "text/plain": [
       "[tensor(0.0016),\n",
       " tensor(0.0010),\n",
       " tensor(0.0006),\n",
       " tensor(0.0002),\n",
       " tensor(6.7085e-05)]"
      ]
     },
     "execution_count": 23,
     "metadata": {},
     "output_type": "execute_result"
    }
   ],
   "source": [
    "test_losses"
   ]
  },
  {
   "cell_type": "code",
   "execution_count": 24,
   "id": "85385aa3",
   "metadata": {},
   "outputs": [
    {
     "data": {
      "image/png": "[encoded data removed]",
      "text/plain": [
       "<Figure size 432x288 with 1 Axes>"
      ]
     },
     "metadata": {
      "needs_background": "light"
     },
     "output_type": "display_data"
    }
   ],
   "source": [
    "plt.plot([t/600 for t in train_correct], label='training accuracy')\n",
    "plt.plot([t/100 for t in test_correct], label='validation accuracy')\n",
    "plt.title('Accuracy at the end of each epoch')\n",
    "plt.legend();"
   ]
  },
  {
   "cell_type": "code",
   "execution_count": 25,
   "id": "ef446424",
   "metadata": {},
   "outputs": [],
   "source": [
    "# Evaluation of the Test Data"
   ]
  },
  {
   "cell_type": "code",
   "execution_count": 26,
   "id": "43a16be7",
   "metadata": {},
   "outputs": [],
   "source": [
    "# Extract the data all at once, not in batches\n",
    "test_load_all = DataLoader(test_data, batch_size=10000, shuffle=False)"
   ]
  },
  {
   "cell_type": "code",
   "execution_count": 27,
   "id": "22ad59e1",
   "metadata": {},
   "outputs": [
    {
     "name": "stdout",
     "output_type": "stream",
     "text": [
      "Test accuracy: 9869/10000 =  98.690%\n"
     ]
    }
   ],
   "source": [
    "with torch.no_grad():\n",
    "    correct = 0\n",
    "    for X_test, y_test in test_load_all:\n",
    "        y_val = model(X_test)  # we don't flatten the data this time\n",
    "        predicted = torch.max(y_val,1)[1]\n",
    "        correct += (predicted == y_test).sum()\n",
    "print(f'Test accuracy: {correct.item()}/{len(test_data)} = {correct.item()*100/(len(test_data)):7.3f}%')"
   ]
  },
  {
   "cell_type": "code",
   "execution_count": 28,
   "id": "5de3333a",
   "metadata": {},
   "outputs": [
    {
     "name": "stdout",
     "output_type": "stream",
     "text": [
      "[[   0    1    2    3    4    5    6    7    8    9]]\n",
      "\n",
      "[[ 971    0    0    0    0    2    3    0    2    0]\n",
      " [   1 1133    2    2    0    0    4    2    0    0]\n",
      " [   2    0 1012    1    0    0    1    3    1    0]\n",
      " [   0    1    2 1001    0   20    0    2    5    4]\n",
      " [   0    0    1    0  978    0    1    0    1    6]\n",
      " [   0    0    0    1    0  865    2    0    1    3]\n",
      " [   1    0    0    0    1    2  945    0    0    1]\n",
      " [   1    1   15    4    0    1    0 1019    2    7]\n",
      " [   0    0    0    1    0    1    2    1  960    3]\n",
      " [   4    0    0    0    3    1    0    1    2  985]]\n"
     ]
    }
   ],
   "source": [
    "# print a row of values for reference\n",
    "np.set_printoptions(formatter=dict(int=lambda x: f'{x:4}'))\n",
    "print(np.arange(10).reshape(1,10))\n",
    "print()\n",
    "\n",
    "# print the confusion matrix\n",
    "print(confusion_matrix(predicted.view(-1), y_test.view(-1)))"
   ]
  },
  {
   "cell_type": "code",
   "execution_count": 29,
   "id": "b9f2c3b7",
   "metadata": {},
   "outputs": [
    {
     "data": {
      "text/plain": [
       "131"
      ]
     },
     "execution_count": 29,
     "metadata": {},
     "output_type": "execute_result"
    }
   ],
   "source": [
    "misses = np.array([])\n",
    "for i in range(len(predicted.view(-1))):\n",
    "    if predicted[i] != y_test[i]:\n",
    "        misses = np.append(misses,i).astype('int64')\n",
    "        \n",
    "# Display the number of misses\n",
    "len(misses)"
   ]
  },
  {
   "cell_type": "code",
   "execution_count": 30,
   "id": "067ad585",
   "metadata": {},
   "outputs": [],
   "source": [
    "# Set up an iterator to feed batched rows\n",
    "r = 12   # row size\n",
    "row = iter(np.array_split(misses,len(misses)//r+1))"
   ]
  },
  {
   "cell_type": "code",
   "execution_count": 31,
   "id": "99617aa6",
   "metadata": {},
   "outputs": [
    {
     "name": "stdout",
     "output_type": "stream",
     "text": [
      "Index: [ 184  321  340  445  471  582  583  659  674  684  691  716]\n",
      "Label: [   8    2    5    6    9    8    2    2    5    7    8    1]\n",
      "Guess: [   3    7    3    0    7    2    3    7    3    3    4    7]\n"
     ]
    },
    {
     "data": {
      "image/png": "[encoded data removed]",
      "text/plain": [
       "<Figure size 720x288 with 1 Axes>"
      ]
     },
     "metadata": {
      "needs_background": "light"
     },
     "output_type": "display_data"
    }
   ],
   "source": [
    "nextrow = next(row)\n",
    "print(\"Index:\", nextrow)\n",
    "print(\"Label:\", y_test.index_select(0,torch.tensor(nextrow)).numpy())\n",
    "print(\"Guess:\", predicted.index_select(0,torch.tensor(nextrow)).numpy())\n",
    "\n",
    "images = X_test.index_select(0,torch.tensor(nextrow))\n",
    "im = make_grid(images, nrow=r)\n",
    "plt.figure(figsize=(10,4))\n",
    "plt.imshow(np.transpose(im.numpy(), (1, 2, 0)));"
   ]
  },
  {
   "cell_type": "code",
   "execution_count": null,
   "id": "47b31536",
   "metadata": {},
   "outputs": [],
   "source": []
  }
 ],
 "metadata": {
  "kernelspec": {
   "display_name": "Python 3 (ipykernel)",
   "language": "python",
   "name": "python3"
  },
  "language_info": {
   "codemirror_mode": {
    "name": "ipython",
    "version": 3
   },
   "file_extension": ".py",
   "mimetype": "text/x-python",
   "name": "python",
   "nbconvert_exporter": "python",
   "pygments_lexer": "ipython3",
   "version": "3.9.7"
  }
 },
 "nbformat": 4,
 "nbformat_minor": 5
}
